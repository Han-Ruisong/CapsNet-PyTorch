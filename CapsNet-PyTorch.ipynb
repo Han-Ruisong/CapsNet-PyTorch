{
 "cells": [
  {
   "cell_type": "markdown",
   "metadata": {},
   "source": [
    "# Capsule Network with Dynamic Routing (CapsNet) - PyTorch 1.4"
   ]
  },
  {
   "cell_type": "code",
   "execution_count": 1,
   "metadata": {},
   "outputs": [],
   "source": [
    "import numpy as np\n",
    "import torch \n",
    "import torch.nn as nn\n",
    "from torch.optim import Adam\n",
    "from torchvision.datasets import MNIST\n",
    "from torch.utils.data import DataLoader\n",
    "from torchvision import transforms\n",
    "import matplotlib.pyplot as plt\n",
    "from tqdm import tqdm"
   ]
  },
  {
   "cell_type": "markdown",
   "metadata": {},
   "source": [
    "### Visualizing Dataset"
   ]
  },
  {
   "cell_type": "code",
   "execution_count": 2,
   "metadata": {},
   "outputs": [],
   "source": [
    "sample_data = MNIST('./mnist_data/', download=True, train=True)"
   ]
  },
  {
   "cell_type": "code",
   "execution_count": 3,
   "metadata": {},
   "outputs": [
    {
     "data": {
      "image/png": "[encoded data removed]",
      "text/plain": [
       "<Figure size 432x288 with 5 Axes>"
      ]
     },
     "metadata": {
      "needs_background": "light"
     },
     "output_type": "display_data"
    }
   ],
   "source": [
    "#show some samples\n",
    "for i in range(5):\n",
    "    \n",
    "    sample = sample_data[i] #contain PIL images and corresponding labels.\n",
    "    \n",
    "    ax = plt.subplot(1,5,i+1)\n",
    "    plt.tight_layout()\n",
    "    ax.set_title(\"#{}\".format(sample[1]))\n",
    "    ax.axis('off')\n",
    "    plt.imshow(sample[0], cmap='gray')"
   ]
  },
  {
   "cell_type": "markdown",
   "metadata": {},
   "source": [
    "### CapsNet"
   ]
  },
  {
   "cell_type": "code",
   "execution_count": 4,
   "metadata": {},
   "outputs": [],
   "source": [
    "batch_size           = 20\n",
    "learning_rate        = 1e-3\n",
    "epsilon              = 1e-9\n",
    "height,width, depth  = 28,28,1\n",
    "epoch                = 20\n",
    "num_labels           = 10\n",
    "primary_caps_vlength = 8\n",
    "digit_caps_vlength   = 16\n",
    "routing_iteration    = 3\n",
    "m_plus               = 0.9\n",
    "m_minus              = 0.1\n",
    "lambda_              = 0.5\n",
    "reg_scale            = 0.0005\n",
    "device               = torch.device(\"cuda\" if torch.cuda.is_available() else \"cpu\")"
   ]
  },
  {
   "cell_type": "code",
   "execution_count": 5,
   "metadata": {},
   "outputs": [],
   "source": [
    "def squash(capsules):\n",
    "    '''\n",
    "    Activation function for CapsNet.\n",
    "    '''\n",
    "    \n",
    "    dot_prod      = torch.sum(capsules**2) #dot product\n",
    "    scalar_factor = dot_prod/(1+dot_prod)/torch.sqrt(dot_prod+epsilon)\n",
    "    squashed      = scalar_factor * capsules\n",
    "    \n",
    "    return squashed"
   ]
  },
  {
   "cell_type": "code",
   "execution_count": 6,
   "metadata": {},
   "outputs": [],
   "source": [
    "def one_hot_encoder(labels, num_labels=num_labels):\n",
    "    '''\n",
    "    Convert the given integer batches to batches of one-hot encodings.\n",
    "    '''\n",
    "    \n",
    "    one_hot = torch.zeros((labels.size(0), num_labels)).to(device)\n",
    "    \n",
    "    for i, label in enumerate(labels):\n",
    "        one_hot[i][label.tolist()] = 1.0\n",
    "    \n",
    "    return one_hot\n",
    "\n",
    "def margin_loss(v_lengths, y):\n",
    "    '''\n",
    "    Calculates the classification loss of the network.\n",
    "    '''\n",
    "    \n",
    "    max_l = torch.max(torch.zeros(1).to(device), 0.9 - v_lengths)**2\n",
    "    max_r = torch.max(torch.zeros(1).to(device), v_lengths - 0.1)**2\n",
    "    \n",
    "    max_l = max_l.view(y.size(0), -1)\n",
    "    max_r = max_r.view(y.size(0), -1)\n",
    "    \n",
    "    T_c = y\n",
    "    \n",
    "    L_c = T_c * max_l + 0.5*(1-T_c)*max_r\n",
    "    \n",
    "    margin_loss = torch.mean(torch.sum(L_c, dim=1))\n",
    "    \n",
    "    return margin_loss\n",
    "\n",
    "def reconstruction_loss(ori_imgs, decoded, reg_scale = reg_scale):\n",
    "    \n",
    "    origin = ori_imgs.view(ori_imgs.size(0), -1)\n",
    "    \n",
    "    recon_loss = reg_scale * nn.MSELoss()(origin, decoded)\n",
    "    \n",
    "    return recon_loss"
   ]
  },
  {
   "cell_type": "code",
   "execution_count": 7,
   "metadata": {},
   "outputs": [],
   "source": [
    "class PrimaryCapsules(nn.Module):\n",
    "    '''\n",
    "    Converts the output from previously defined conv layers into capsules.\n",
    "    '''\n",
    "    \n",
    "    def __init__(self, primary_caps_length=primary_caps_vlength):\n",
    "        \n",
    "        super(PrimaryCapsules, self).__init__()\n",
    "        \n",
    "        self.caps_length = primary_caps_length\n",
    "    \n",
    "    def forward(self, x):\n",
    "        '''\n",
    "        Transform the given feature vector to capsules and apply the squashing act. func.\n",
    "        '''\n",
    "        return squash(x.view(x.size(0), -1, self.caps_length))"
   ]
  },
  {
   "cell_type": "code",
   "execution_count": 8,
   "metadata": {},
   "outputs": [],
   "source": [
    "class DigitCapsules(nn.Module):\n",
    "    '''\n",
    "    Uses the Primary Capsules for routing process and returns the output after the process.\n",
    "    '''\n",
    "    \n",
    "    def __init__(self, num_capsules,\n",
    "                       input_caps_length = primary_caps_vlength,\n",
    "                       digit_caps_length = digit_caps_vlength, \n",
    "                       num_labels        = num_labels,\n",
    "                       routing_iter      = routing_iteration,\n",
    "                       device            = device):\n",
    "        \n",
    "        super(DigitCapsules, self).__init__()\n",
    "        \n",
    "        self.in_caps_length  = input_caps_length\n",
    "        self.in_caps_num     = num_capsules\n",
    "        self.out_caps_length = digit_caps_length\n",
    "        self.out_caps_num    = num_labels\n",
    "        self.routing_iter    = routing_iter\n",
    "        \n",
    "        #Initialize the weight and bias for the transformation of capsules later\n",
    "        self.weight = nn.Parameter(0.1 * torch.randn(1, self.in_caps_num, self.out_caps_num, \n",
    "                                                     self.out_caps_length, self.in_caps_length))\n",
    "        \n",
    "        self.bias  = nn.Parameter(0.1 * torch.randn(1, 1, self.out_caps_num, self.out_caps_length, 1))\n",
    "        \n",
    "        self.device = device\n",
    "        \n",
    "        \n",
    "    \n",
    "    def forward(self, x):\n",
    "        '''\n",
    "        Perform the transformation of capsules + dynamic routing.\n",
    "        '''\n",
    "        #copy the weight [batch_size] times to perform batch operation.\n",
    "        tiled_weights = self.weight.repeat(x.size(0), 1, 1, 1, 1) \n",
    "        #increase the dimension of the input capsules to perform batch multiplication.\n",
    "        tiled_in_caps = x[:,:, None, :, None].repeat(1,1,self.out_caps_num, 1, 1)\n",
    "        \n",
    "        u_hat = torch.matmul(tiled_weights, tiled_in_caps).to(self.device)\n",
    "        \n",
    "        u_hat_detached = u_hat.detach() #no gradient flow\n",
    "        \n",
    "        b_ij = nn.Parameter(torch.zeros(x.size(0), x.size(1), self.out_caps_num, 1, 1), \n",
    "                            requires_grad=False).to(self.device) #coefficients for dynamic routing. No gradients.\n",
    "        \n",
    "        \n",
    "        for r_iter in range(self.routing_iter):\n",
    "            \n",
    "            c_ij = nn.functional.softmax(b_ij, dim=2)\n",
    "            \n",
    "            if r_iter == self.routing_iter - 1: #final iteration\n",
    "                \n",
    "                s_j = torch.mul(c_ij, u_hat)\n",
    "                \n",
    "                s_j = torch.sum(s_j, dim=1, keepdim=True) + self.bias\n",
    "                \n",
    "                v_j = squash(s_j)\n",
    "        \n",
    "            else:\n",
    "                \n",
    "                s_j = torch.mul(c_ij, u_hat_detached)\n",
    "                \n",
    "                s_j = torch.sum(s_j, dim=1, keepdim=True) + self.bias\n",
    "                \n",
    "                v_j = squash(s_j)\n",
    "                \n",
    "                v_j_tiled = v_j.repeat(1, x.size(1), 1, 1, 1)\n",
    "                \n",
    "                product = u_hat_detached * v_j_tiled\n",
    "                \n",
    "                u_produce_v = torch.sum(product, dim=3, keepdim=True)\n",
    "                \n",
    "                b_ij = b_ij + u_produce_v\n",
    "                \n",
    "        return v_j"
   ]
  },
  {
   "cell_type": "code",
   "execution_count": 9,
   "metadata": {},
   "outputs": [],
   "source": [
    "class ReconstructionNetwork(nn.Module):\n",
    "    '''\n",
    "    Used to reconstruct the image back from the final layer capsule.\n",
    "    '''\n",
    "    \n",
    "    def __init__(self, num_labels        = num_labels,\n",
    "                       final_capsule_num = digit_caps_vlength,\n",
    "                       fc1_num           = 512,\n",
    "                       fc2_num           = 1024,\n",
    "                       img_height        = height,\n",
    "                       img_width         = width,\n",
    "                       img_depth         = depth):\n",
    "        \n",
    "        super(ReconstructionNetwork, self).__init__()\n",
    "        \n",
    "        self.num_labels       = num_labels\n",
    "        self.input_neuron_num = self.num_labels*final_capsule_num\n",
    "        self.fc1_out_num = fc1_num\n",
    "        self.fc2_in_num  = fc1_num\n",
    "        self.fc2_out_num = fc2_num\n",
    "        self.fc3_in_num  = fc2_num\n",
    "        self.output_size = img_height*img_width*depth\n",
    "        \n",
    "        self.fc_layers = nn.Sequential(\n",
    "                                    nn.Linear(self.input_neuron_num, self.fc1_out_num),\n",
    "                                    nn.ReLU(inplace=True),\n",
    "                                    nn.Linear(self.fc2_in_num, self.fc2_out_num),\n",
    "                                    nn.ReLU(inplace=True),\n",
    "                                    nn.Linear(self.fc3_in_num, self.output_size),\n",
    "                                    nn.Sigmoid()\n",
    "                                    )\n",
    "        \n",
    "    def forward(self, x, y):\n",
    "        masked_capsule = torch.squeeze(x, dim=-1) * y.view(-1, self.num_labels, 1)\n",
    "        capsule_reshaped = masked_capsule.view(x.size(0), self.input_neuron_num)\n",
    "        \n",
    "        decoded = self.fc_layers(capsule_reshaped)\n",
    "        \n",
    "        return decoded"
   ]
  },
  {
   "cell_type": "markdown",
   "metadata": {},
   "source": [
    "**CapsNet Model**"
   ]
  },
  {
   "cell_type": "code",
   "execution_count": 10,
   "metadata": {},
   "outputs": [
    {
     "name": "stdout",
     "output_type": "stream",
     "text": [
      "CapsuleNetwork(\n",
      "  (cnn_blocks): Sequential(\n",
      "    (0): Conv2d(1, 256, kernel_size=(9, 9), stride=(1, 1))\n",
      "    (1): ReLU(inplace=True)\n",
      "    (2): Conv2d(256, 256, kernel_size=(9, 9), stride=(2, 2))\n",
      "  )\n",
      "  (primary_caps): PrimaryCapsules()\n",
      "  (digit_caps): DigitCapsules()\n",
      "  (recon_net): ReconstructionNetwork(\n",
      "    (fc_layers): Sequential(\n",
      "      (0): Linear(in_features=160, out_features=512, bias=True)\n",
      "      (1): ReLU(inplace=True)\n",
      "      (2): Linear(in_features=512, out_features=1024, bias=True)\n",
      "      (3): ReLU(inplace=True)\n",
      "      (4): Linear(in_features=1024, out_features=784, bias=True)\n",
      "      (5): Sigmoid()\n",
      "    )\n",
      "  )\n",
      ")\n"
     ]
    }
   ],
   "source": [
    "class CapsuleNetwork(nn.Module):\n",
    "    '''\n",
    "    Entire Capsule Network that make use of PrimaryCapsules and DigitCapsules classes above.\n",
    "    '''\n",
    "    \n",
    "    def __init__(self, conv1_output_depth = 256, \n",
    "                       conv2_output_depth = 256, \n",
    "                       kernel_size_1      = 9,\n",
    "                       kernel_size_2      = 9,\n",
    "                       padding_1          = 0,\n",
    "                       padding_2          = 0,\n",
    "                       stride_1           = 1,\n",
    "                       stride_2           = 2,\n",
    "                       in_channel         = depth):\n",
    "        \n",
    "        super(CapsuleNetwork, self).__init__()\n",
    "        \n",
    "        #Convolutional layers\n",
    "        self.cnn_blocks = nn.Sequential(\n",
    "                                        nn.Conv2d(1, conv1_output_depth, kernel_size=kernel_size_1, \n",
    "                                                  padding=padding_1, stride=stride_1),\n",
    "                                        nn.ReLU(inplace=True),\n",
    "                                        nn.Conv2d(conv1_output_depth, conv2_output_depth, \n",
    "                                                  kernel_size=kernel_size_2, \n",
    "                                                  padding=padding_2, stride=stride_2)\n",
    "                                        )\n",
    "        self.primary_caps = PrimaryCapsules() #init primary caps class\n",
    "        self.digit_caps   = DigitCapsules(num_capsules=1152) #init digit caps class\n",
    "        self.recon_net    = ReconstructionNetwork()\n",
    "        \n",
    "    \n",
    "    def forward(self, x, y):\n",
    "        \n",
    "        conv_outputs       = self.cnn_blocks(x)\n",
    "        primary_caps_layer = self.primary_caps(conv_outputs)\n",
    "        digit_caps_layer   = self.digit_caps(primary_caps_layer)\n",
    "        \n",
    "        digits = torch.squeeze(digit_caps_layer, dim=1)\n",
    "        \n",
    "        v_lengths = digits.norm(dim = 2)\n",
    "        \n",
    "        one_hot_y = one_hot_encoder(y)\n",
    "        \n",
    "        classification_loss = margin_loss(v_lengths, one_hot_y)\n",
    "        \n",
    "        decoded = self.recon_net(digits, one_hot_y)\n",
    "        \n",
    "        recon_loss = reconstruction_loss(x, decoded)\n",
    "        \n",
    "        total_loss = classification_loss + recon_loss\n",
    "        \n",
    "        return (total_loss, v_lengths, decoded)\n",
    "\n",
    "        \n",
    "caps_model = CapsuleNetwork().to(device)\n",
    "optimizer = Adam(caps_model.parameters(), lr=1e-4)\n",
    "print(caps_model)"
   ]
  },
  {
   "cell_type": "markdown",
   "metadata": {},
   "source": [
    "### Model Training"
   ]
  },
  {
   "cell_type": "code",
   "execution_count": 11,
   "metadata": {},
   "outputs": [],
   "source": [
    "mnist_data = MNIST('./mnist_data/', download=True, transform=transforms.ToTensor())\n",
    "mnist_dataloader = DataLoader(mnist_data, batch_size=1, shuffle=False, num_workers=4)"
   ]
  },
  {
   "cell_type": "code",
   "execution_count": 13,
   "metadata": {},
   "outputs": [
    {
     "name": "stdout",
     "output_type": "stream",
     "text": [
      "0.9108177572488785\n",
      "0.826164722442627\n",
      "0.7593359351158142\n",
      "0.709135890007019\n",
      "0.6703215166926384\n",
      "0.6402557864785194\n",
      "0.6189927235245705\n",
      "0.6084759384393692\n",
      "0.600558802485466\n",
      "0.6040965914726257\n"
     ]
    }
   ],
   "source": [
    "for epoch_iter in range(10):\n",
    "\n",
    "    total_loss = 0\n",
    "    for i, sample in enumerate(mnist_dataloader):\n",
    "\n",
    "        out = caps_model(sample[0].cuda(), sample[1].cuda())\n",
    "        \n",
    "        optimizer.zero_grad()\n",
    "        loss = out[0]\n",
    "        total_loss += loss.item()\n",
    "        \n",
    "        loss.backward()\n",
    "        optimizer.step()\n",
    "\n",
    "        if i == 5:\n",
    "            break\n",
    "    \n",
    "    print(total_loss)"
   ]
  },
  {
   "cell_type": "code",
   "execution_count": null,
   "metadata": {},
   "outputs": [],
   "source": []
  },
  {
   "cell_type": "code",
   "execution_count": null,
   "metadata": {},
   "outputs": [],
   "source": []
  }
 ],
 "metadata": {
  "kernelspec": {
   "display_name": "Python 3",
   "language": "python",
   "name": "python3"
  },
  "language_info": {
   "codemirror_mode": {
    "name": "ipython",
    "version": 3
   },
   "file_extension": ".py",
   "mimetype": "text/x-python",
   "name": "python",
   "nbconvert_exporter": "python",
   "pygments_lexer": "ipython3",
   "version": "3.6.10"
  }
 },
 "nbformat": 4,
 "nbformat_minor": 4
}
