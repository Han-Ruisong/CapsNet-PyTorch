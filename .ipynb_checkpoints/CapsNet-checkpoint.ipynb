{
 "cells": [
  {
   "cell_type": "code",
   "execution_count": 1,
   "metadata": {},
   "outputs": [],
   "source": [
    "import numpy as np\n",
    "import torch \n",
    "import torch.nn as nn\n",
    "from torch.optim import Adam, SGD\n",
    "from torch.autograd import Variable\n",
    "from torchvision.datasets import MNIST\n",
    "from torch.utils.data import DataLoader\n",
    "from torchvision import transforms, utils\n",
    "import matplotlib.pyplot as plt"
   ]
  },
  {
   "cell_type": "code",
   "execution_count": 2,
   "metadata": {},
   "outputs": [],
   "source": [
    "mnist_data = MNIST('./mnist_data/', download=True)"
   ]
  },
  {
   "cell_type": "code",
   "execution_count": 3,
   "metadata": {},
   "outputs": [
    {
     "name": "stdout",
     "output_type": "stream",
     "text": [
      "0 (28, 28)\n",
      "1 (28, 28)\n",
      "2 (28, 28)\n",
      "3 (28, 28)\n",
      "4 (28, 28)\n"
     ]
    },
    {
     "data": {
      "image/png": "[encoded data removed]",
      "text/plain": [
       "<Figure size 432x288 with 5 Axes>"
      ]
     },
     "metadata": {
      "needs_background": "light"
     },
     "output_type": "display_data"
    }
   ],
   "source": [
    "#show some samples\n",
    "for i in range(5):\n",
    "    \n",
    "    sample = mnist_data[i]\n",
    "    print(i, sample[0].size)\n",
    "    \n",
    "    ax = plt.subplot(1,5,i+1)\n",
    "    plt.tight_layout()\n",
    "    ax.set_title(\"Label #{}\".format(sample[1]))\n",
    "    ax.axis('off')\n",
    "    plt.imshow(sample[0], cmap='gray')"
   ]
  },
  {
   "cell_type": "code",
   "execution_count": 4,
   "metadata": {},
   "outputs": [
    {
     "name": "stdout",
     "output_type": "stream",
     "text": [
      "CapsuleNet(\n",
      "  (cnn_blocks): Sequential(\n",
      "    (0): Conv2d(1, 256, kernel_size=(9, 9), stride=(1, 1))\n",
      "    (1): ReLU(inplace=True)\n",
      "    (2): Conv2d(256, 256, kernel_size=(9, 9), stride=(2, 2))\n",
      "  )\n",
      ")\n"
     ]
    }
   ],
   "source": [
    "class CapsuleNet(nn.Module):\n",
    "    \n",
    "    def squash(self, capsules):\n",
    "        \n",
    "        dot_prod = torch.sum(capsules**2)\n",
    "        scalar_factor = dot_prod/(1 + dot_prod)/torch.sqrt(dot_prod + 1e-8)\n",
    "        vec_squashed = scalar_factor * capsules\n",
    "        return vec_squashed\n",
    "        \n",
    "    \n",
    "    \n",
    "    def __init__(self):\n",
    "        \n",
    "        super(CapsuleNet, self).__init__()\n",
    "        \n",
    "        self.device = torch.device(\"cuda\" if torch.cuda.is_available() else \"cpu\")\n",
    "        \n",
    "        self.cnn_blocks = nn.Sequential(\n",
    "                                        nn.Conv2d(1, 256, kernel_size=9, padding=0, stride=1),\n",
    "                                        nn.ReLU(inplace=True),\n",
    "                                        nn.Conv2d(256, 256, kernel_size=9, padding=0, stride=2)                                        \n",
    "                                        ) \n",
    "    \n",
    "    def digitcaps(self, capsules):\n",
    "        \n",
    "        self.weight = nn.Parameter(0.01 * torch.randn(1, capsules.size(1), 10, 16, 8))\n",
    "        self.bias   = nn.Parameter(0.01 * torch.randn(1,1, 10, 16, 1)).cuda()\n",
    "        \n",
    "        self.weight_tiles = self.weight.repeat(capsules.size(0), 1, 1, 1, 1).cuda()\n",
    "        self.capsules_tiles = capsules[:, :, None, :, None ].repeat(1,1,10,1,1)\n",
    "        \n",
    "        self.u_hat = torch.matmul(self.weight_tiles, self.capsules_tiles).to(self.device)\n",
    "        \n",
    "        u_hat_detached = self.u_hat.detach()\n",
    "        \n",
    "        b_ij = nn.Parameter(torch.zeros(capsules.size(0), capsules.size(1), 10, 1, 1), requires_grad=False).cuda()\n",
    "        \n",
    "        for i in range(3):\n",
    "            \n",
    "            c_ij = nn.functional.softmax(b_ij, dim=2)\n",
    "            \n",
    "            if i == 2:\n",
    "                \n",
    "                s_j = torch.mul(c_ij,self.u_hat)\n",
    "                \n",
    "                s_j = torch.sum(s_j, dim=1, keepdim=True) + self.bias\n",
    "                \n",
    "                v_j = self.squash(s_j)\n",
    "                \n",
    "            else:\n",
    "                \n",
    "                s_j = torch.mul(c_ij, u_hat_detached)\n",
    "                \n",
    "                s_j = torch.sum(s_j, dim=1, keepdim=True) + self.bias\n",
    "                \n",
    "                v_j = self.squash(s_j)\n",
    "                \n",
    "                v_j_tiled = v_j.repeat(1, capsules.size(1), 1, 1, 1)\n",
    "                \n",
    "                product = u_hat_detached * v_j_tiled \n",
    "                \n",
    "                u_produce_v = torch.sum(product, dim=3, keepdim=True)\n",
    "                \n",
    "                b_ij = b_ij + u_produce_v\n",
    "                \n",
    "        return v_j\n",
    "                \n",
    "    def one_hot_encoder(self, labels):\n",
    "        \n",
    "        temp = torch.zeros((labels.size(0), 10), device='cuda')\n",
    "        for i,label in enumerate(labels):\n",
    "            temp[i][label.tolist()] = 1.0\n",
    "        \n",
    "        return temp\n",
    "        \n",
    "    def forward(self, x):\n",
    "        \n",
    "        conv_outputs = self.cnn_blocks(x)\n",
    "        primary_caps = self.squash(conv_outputs.view(conv_outputs.size(0), -1, 8))\n",
    "        digits = self.digitcaps(primary_caps)\n",
    "        digits = torch.squeeze(digits, dim=1)\n",
    "        \n",
    "        v_lengths = torch.sqrt(torch.sum(digits**2, dim=2, keepdim=True) + 1e-8)\n",
    "        \n",
    "        return v_lengths\n",
    "        \n",
    "    \n",
    "    def margin_loss(self, v_lengths, y):\n",
    "        \n",
    "        max_l = torch.max(torch.zeros(1, device='cuda'), 0.9-v_lengths)**2\n",
    "        max_r = torch.max(torch.zeros(1, device='cuda'), v_lengths - 0.1)**2\n",
    "        \n",
    "        max_l = max_l.view(y.size(0), -1)\n",
    "        max_r = max_r.view(y.size(0), -1)\n",
    "        \n",
    "        T_c = self.one_hot_encoder(y)\n",
    "        \n",
    "        L_c = T_c * max_l + 0.5*(1-T_c)*max_r\n",
    "        margin_loss = torch.mean(torch.sum(L_c, dim=1))\n",
    "        \n",
    "        return margin_loss\n",
    "             \n",
    "        \n",
    "capsnet = CapsuleNet()        \n",
    "optimizer = Adam(capsnet.parameters(), lr=1e-5)\n",
    "\n",
    "device = torch.device(\"cuda\" if torch.cuda.is_available() else \"cpu\")\n",
    "capsnet = capsnet.to(device)\n",
    "print(capsnet)\n"
   ]
  },
  {
   "cell_type": "code",
   "execution_count": 5,
   "metadata": {},
   "outputs": [],
   "source": [
    "mnist_data = MNIST('./mnist_data/', download=True, transform=transforms.ToTensor())\n",
    "mnist_dataloader = DataLoader(mnist_data, batch_size=100, shuffle=True, num_workers = 4)"
   ]
  },
  {
   "cell_type": "code",
   "execution_count": 6,
   "metadata": {},
   "outputs": [
    {
     "name": "stderr",
     "output_type": "stream",
     "text": [
      "../torch/csrc/utils/python_arg_parser.cpp:738: UserWarning: This overload of add_ is deprecated:\n",
      "\tadd_(Number alpha, Tensor other)\n",
      "Consider using one of the following signatures instead:\n",
      "\tadd_(Tensor other, Number alpha)\n"
     ]
    },
    {
     "ename": "KeyboardInterrupt",
     "evalue": "",
     "output_type": "error",
     "traceback": [
      "\u001b[0;31m---------------------------------------------------------------------------\u001b[0m",
      "\u001b[0;31mKeyboardInterrupt\u001b[0m                         Traceback (most recent call last)",
      "\u001b[0;32m<ipython-input-6-e26a80fd7c72>\u001b[0m in \u001b[0;36m<module>\u001b[0;34m\u001b[0m\n\u001b[1;32m     13\u001b[0m         \u001b[0mout\u001b[0m \u001b[0;34m=\u001b[0m \u001b[0mcapsnet\u001b[0m\u001b[0;34m(\u001b[0m\u001b[0msample\u001b[0m\u001b[0;34m[\u001b[0m\u001b[0;36m0\u001b[0m\u001b[0;34m]\u001b[0m\u001b[0;34m.\u001b[0m\u001b[0mto\u001b[0m\u001b[0;34m(\u001b[0m\u001b[0mdevice\u001b[0m\u001b[0;34m)\u001b[0m\u001b[0;34m)\u001b[0m\u001b[0;34m\u001b[0m\u001b[0;34m\u001b[0m\u001b[0m\n\u001b[1;32m     14\u001b[0m         \u001b[0mloss\u001b[0m \u001b[0;34m=\u001b[0m \u001b[0mcapsnet\u001b[0m\u001b[0;34m.\u001b[0m\u001b[0mmargin_loss\u001b[0m\u001b[0;34m(\u001b[0m\u001b[0mout\u001b[0m\u001b[0;34m,\u001b[0m \u001b[0msample\u001b[0m\u001b[0;34m[\u001b[0m\u001b[0;36m1\u001b[0m\u001b[0;34m]\u001b[0m\u001b[0;34m.\u001b[0m\u001b[0mto\u001b[0m\u001b[0;34m(\u001b[0m\u001b[0mdevice\u001b[0m\u001b[0;34m)\u001b[0m\u001b[0;34m)\u001b[0m\u001b[0;34m\u001b[0m\u001b[0;34m\u001b[0m\u001b[0m\n\u001b[0;32m---> 15\u001b[0;31m         \u001b[0mloss\u001b[0m\u001b[0;34m.\u001b[0m\u001b[0mbackward\u001b[0m\u001b[0;34m(\u001b[0m\u001b[0;34m)\u001b[0m\u001b[0;34m\u001b[0m\u001b[0;34m\u001b[0m\u001b[0m\n\u001b[0m\u001b[1;32m     16\u001b[0m         \u001b[0moptimizer\u001b[0m\u001b[0;34m.\u001b[0m\u001b[0mstep\u001b[0m\u001b[0;34m(\u001b[0m\u001b[0;34m)\u001b[0m\u001b[0;34m\u001b[0m\u001b[0;34m\u001b[0m\u001b[0m\n\u001b[1;32m     17\u001b[0m         \u001b[0mloss_total\u001b[0m \u001b[0;34m+=\u001b[0m \u001b[0mloss\u001b[0m\u001b[0;34m.\u001b[0m\u001b[0mtolist\u001b[0m\u001b[0;34m(\u001b[0m\u001b[0;34m)\u001b[0m\u001b[0;34m\u001b[0m\u001b[0;34m\u001b[0m\u001b[0m\n",
      "\u001b[0;32m~/anaconda3/envs/spacex/lib/python3.6/site-packages/torch/tensor.py\u001b[0m in \u001b[0;36mbackward\u001b[0;34m(self, gradient, retain_graph, create_graph)\u001b[0m\n\u001b[1;32m    196\u001b[0m                 \u001b[0mproducts\u001b[0m\u001b[0;34m.\u001b[0m \u001b[0mDefaults\u001b[0m \u001b[0mto\u001b[0m\u001b[0;31m \u001b[0m\u001b[0;31m`\u001b[0m\u001b[0;31m`\u001b[0m\u001b[0;32mFalse\u001b[0m\u001b[0;31m`\u001b[0m\u001b[0;31m`\u001b[0m\u001b[0;34m.\u001b[0m\u001b[0;34m\u001b[0m\u001b[0;34m\u001b[0m\u001b[0m\n\u001b[1;32m    197\u001b[0m         \"\"\"\n\u001b[0;32m--> 198\u001b[0;31m         \u001b[0mtorch\u001b[0m\u001b[0;34m.\u001b[0m\u001b[0mautograd\u001b[0m\u001b[0;34m.\u001b[0m\u001b[0mbackward\u001b[0m\u001b[0;34m(\u001b[0m\u001b[0mself\u001b[0m\u001b[0;34m,\u001b[0m \u001b[0mgradient\u001b[0m\u001b[0;34m,\u001b[0m \u001b[0mretain_graph\u001b[0m\u001b[0;34m,\u001b[0m \u001b[0mcreate_graph\u001b[0m\u001b[0;34m)\u001b[0m\u001b[0;34m\u001b[0m\u001b[0;34m\u001b[0m\u001b[0m\n\u001b[0m\u001b[1;32m    199\u001b[0m \u001b[0;34m\u001b[0m\u001b[0m\n\u001b[1;32m    200\u001b[0m     \u001b[0;32mdef\u001b[0m \u001b[0mregister_hook\u001b[0m\u001b[0;34m(\u001b[0m\u001b[0mself\u001b[0m\u001b[0;34m,\u001b[0m \u001b[0mhook\u001b[0m\u001b[0;34m)\u001b[0m\u001b[0;34m:\u001b[0m\u001b[0;34m\u001b[0m\u001b[0;34m\u001b[0m\u001b[0m\n",
      "\u001b[0;32m~/anaconda3/envs/spacex/lib/python3.6/site-packages/torch/autograd/__init__.py\u001b[0m in \u001b[0;36mbackward\u001b[0;34m(tensors, grad_tensors, retain_graph, create_graph, grad_variables)\u001b[0m\n\u001b[1;32m     97\u001b[0m     Variable._execution_engine.run_backward(\n\u001b[1;32m     98\u001b[0m         \u001b[0mtensors\u001b[0m\u001b[0;34m,\u001b[0m \u001b[0mgrad_tensors\u001b[0m\u001b[0;34m,\u001b[0m \u001b[0mretain_graph\u001b[0m\u001b[0;34m,\u001b[0m \u001b[0mcreate_graph\u001b[0m\u001b[0;34m,\u001b[0m\u001b[0;34m\u001b[0m\u001b[0;34m\u001b[0m\u001b[0m\n\u001b[0;32m---> 99\u001b[0;31m         allow_unreachable=True)  # allow_unreachable flag\n\u001b[0m\u001b[1;32m    100\u001b[0m \u001b[0;34m\u001b[0m\u001b[0m\n\u001b[1;32m    101\u001b[0m \u001b[0;34m\u001b[0m\u001b[0m\n",
      "\u001b[0;31mKeyboardInterrupt\u001b[0m: "
     ]
    }
   ],
   "source": [
    "torch.autograd.set_detect_anomaly(True)\n",
    "\n",
    "\n",
    "for i in range(5):\n",
    "    loss_total = 0\n",
    "    for batch_i, sample in enumerate(mnist_dataloader):\n",
    "    #     img = sample[0][0].numpy()\n",
    "    #     plt.imshow(img[0,0,:,:], cmap='gray')\n",
    "    #     plt.title(str(sample[1].tolist()))\n",
    "    #     plt.show()\n",
    "    #     print(sample[1])\n",
    "    #     print(sample[0].size())\n",
    "        out = capsnet(sample[0].to(device))\n",
    "        loss = capsnet.margin_loss(out, sample[1].to(device))\n",
    "        loss.backward()\n",
    "        optimizer.step()\n",
    "        loss_total += loss.tolist()\n",
    "\n",
    "    print(loss_total)\n",
    "    \n",
    "    \n",
    "    \n",
    "#     if batch_i == 0:\n",
    "#         break"
   ]
  },
  {
   "cell_type": "code",
   "execution_count": null,
   "metadata": {},
   "outputs": [],
   "source": []
  },
  {
   "cell_type": "code",
   "execution_count": null,
   "metadata": {},
   "outputs": [],
   "source": []
  }
 ],
 "metadata": {
  "kernelspec": {
   "display_name": "Python 3",
   "language": "python",
   "name": "python3"
  },
  "language_info": {
   "codemirror_mode": {
    "name": "ipython",
    "version": 3
   },
   "file_extension": ".py",
   "mimetype": "text/x-python",
   "name": "python",
   "nbconvert_exporter": "python",
   "pygments_lexer": "ipython3",
   "version": "3.6.10"
  }
 },
 "nbformat": 4,
 "nbformat_minor": 4
}
